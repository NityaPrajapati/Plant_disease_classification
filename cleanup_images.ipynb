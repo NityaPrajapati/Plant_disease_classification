{
 "cells": [
  {
   "cell_type": "code",
   "execution_count": 1,
   "id": "ad2f5ea1",
   "metadata": {},
   "outputs": [
    {
     "name": "stdout",
     "output_type": "stream",
     "text": [
      "\n",
      "✅ Total corrupt/invalid images deleted from 'D:/PROJECT/PLANT DISEASE/plant (train, test, validation)/fruit/train': 0\n",
      "\n",
      "\n",
      "✅ Total corrupt/invalid images deleted from 'D:/PROJECT/PLANT DISEASE/plant (train, test, validation)/fruit/validation': 0\n",
      "\n"
     ]
    }
   ],
   "source": [
    "from PIL import Image\n",
    "import os\n",
    "\n",
    "def delete_corrupt_images(directory):\n",
    "    deleted = 0\n",
    "    for root, _, files in os.walk(directory):\n",
    "        for file in files:\n",
    "            file_path = os.path.join(root, file)\n",
    "            try:\n",
    "                with Image.open(file_path) as img:\n",
    "                    img.verify()  # Verify image is not corrupted\n",
    "            except Exception as e:\n",
    "                print(f\"❌ Corrupt or invalid image deleted: {file_path}\")\n",
    "                os.remove(file_path)\n",
    "                deleted += 1\n",
    "    print(f\"\\n✅ Total corrupt/invalid images deleted from '{directory}': {deleted}\\n\")\n",
    "\n",
    "# Set your dataset directories\n",
    "train_dir = 'D:/PROJECT/PLANT DISEASE/plant (train, test, validation)/fruit/train'\n",
    "val_dir = 'D:/PROJECT/PLANT DISEASE/plant (train, test, validation)/fruit/validation'\n",
    "\n",
    "# Run cleanup\n",
    "delete_corrupt_images(train_dir)\n",
    "delete_corrupt_images(val_dir)"
   ]
  }
 ],
 "metadata": {
  "kernelspec": {
   "display_name": "Python 3",
   "language": "python",
   "name": "python3"
  },
  "language_info": {
   "codemirror_mode": {
    "name": "ipython",
    "version": 3
   },
   "file_extension": ".py",
   "mimetype": "text/x-python",
   "name": "python",
   "nbconvert_exporter": "python",
   "pygments_lexer": "ipython3",
   "version": "3.11.9"
  }
 },
 "nbformat": 4,
 "nbformat_minor": 5
}
